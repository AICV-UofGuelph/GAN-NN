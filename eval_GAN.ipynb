{
 "cells": [
  {
   "cell_type": "code",
   "execution_count": null,
   "metadata": {},
   "outputs": [],
   "source": [
    "import os\n",
    "import sys\n",
    "import torch\n",
    "from torch.utils.data import DataLoader\n",
    "import create_paths\n",
    "from create_paths import smoothen_paths\n",
    "import matplotlib.pyplot as plt"
   ]
  },
  {
   "cell_type": "markdown",
   "metadata": {},
   "source": [
    "Configure the evaluation run"
   ]
  },
  {
   "cell_type": "code",
   "execution_count": null,
   "metadata": {},
   "outputs": [],
   "source": [
    "DEVICE = torch.device('cuda' if torch.cuda.is_available() else 'cpu')\n",
    "\n",
    "DATA_DIR = 'inputs' # the root directory containing the processed input data\n",
    "DATASET = None      # (String) The name of the dataset to load. Leave as None to use the same dataset that the model was trained on.\n",
    "SUBSET = 'eval'     # The name of the subset to load from\n",
    "\n",
    "RUN_NAME = ''\n",
    "STEP = 0\n",
    "\n",
    "BATCH_SIZE = 50\n",
    "NUM_SAMPLES = 5     # the number of example outputs to generate"
   ]
  },
  {
   "cell_type": "markdown",
   "metadata": {},
   "source": [
    "Load the network(s)"
   ]
  },
  {
   "cell_type": "code",
   "execution_count": null,
   "metadata": {},
   "outputs": [],
   "source": [
    "model = torch.load(f'checkpoints/{RUN_NAME}/gen/step{STEP}.tar')\n",
    "gen = model['gen']\n",
    "if DATASET == None:\n",
    "    DATASET = model['dataset']"
   ]
  },
  {
   "cell_type": "markdown",
   "metadata": {},
   "source": [
    "Get the input set"
   ]
  },
  {
   "cell_type": "code",
   "execution_count": null,
   "metadata": {},
   "outputs": [],
   "source": [
    "# Make sure inputs exist for the desired dataset\n",
    "input_dir = os.path.join(os.getcwd(), DATA_DIR, DATASET, SUBSET)\n",
    "if not os.path.isdir(input_dir):\n",
    "    print(f'ERROR: {input_dir} is not a valid directory')\n",
    "    sys.exit(1)\n",
    "\n",
    "# Load all inputs\n",
    "inputs = []\n",
    "truth = os.scandir(input_dir)\n",
    "for item in truth:\n",
    "    true_item = torch.load(item)\n",
    "    inputs = inputs.append(true_item)\n",
    "\n",
    "dataloader = DataLoader(inputs, batch_size=BATCH_SIZE, shuffle = True, drop_last = True)"
   ]
  },
  {
   "cell_type": "markdown",
   "metadata": {},
   "source": [
    "Get the resulting outputs"
   ]
  },
  {
   "cell_type": "code",
   "execution_count": null,
   "metadata": {},
   "outputs": [],
   "source": [
    "outputs = torch.empty(None)\n",
    "for batch_idx, item in enumerate(dataloader):\n",
    "    item = item.to(DEVICE)\n",
    "\n",
    "    # Generate noise\n",
    "    batch = torch.rand_like(item[:,0,:,:])\n",
    "    batch = torch.cat((batch,item[:,1:,:,:]), axis=1)\n",
    "\n",
    "    # Retrieve the batch of outputs\n",
    "    item_out = item[:,-1,:,:]\n",
    "    item_out = torch.cat((item_out, item[:,-2,:,:]), axis=1)\n",
    "    item_out = torch.cat((item_out, gen(batch)), axis=1)\n",
    "    item_out = torch.cat((item_out, item[:,0,:,:]), axis=1)\n",
    "\n",
    "    item_out = item_out.to('cpu')\n",
    "    outputs = torch.cat((outputs, item_out), axis=0)\n",
    "\n",
    "outputs = outputs[:NUM_SAMPLES,:,:,:]"
   ]
  },
  {
   "cell_type": "markdown",
   "metadata": {},
   "source": [
    "round outputs using Rachael's code"
   ]
  },
  {
   "cell_type": "markdown",
   "metadata": {},
   "source": [
    "Format and save input, raw output, and rounded path"
   ]
  },
  {
   "cell_type": "code",
   "execution_count": null,
   "metadata": {},
   "outputs": [],
   "source": []
  }
 ],
 "metadata": {
  "kernelspec": {
   "display_name": "Python 3.9.7 ('base')",
   "language": "python",
   "name": "python3"
  },
  "language_info": {
   "name": "python",
   "version": "3.9.7"
  },
  "orig_nbformat": 4,
  "vscode": {
   "interpreter": {
    "hash": "1448b48b023bcc9c3d4a79e814720a10ca6d4244f75e0f7ce4af58f96ba2b7d3"
   }
  }
 },
 "nbformat": 4,
 "nbformat_minor": 2
}
