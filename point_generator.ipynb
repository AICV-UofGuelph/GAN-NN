{
 "cells": [
  {
   "cell_type": "code",
   "execution_count": null,
   "metadata": {},
   "outputs": [],
   "source": [
    "# Code adapted from: https://github.com/aladdinpersson/Machine-Learning-Collection/blob/ac5dcd03a40a08a8af7e1a67ade37f28cf88db43/ML/Pytorch/GANs/2.%20DCGAN/train.py\n",
    "import torch\n",
    "import torch.nn as nn\n",
    "import torch.nn.functional as F\n",
    "import torch.optim as optim\n",
    "import torchvision\n",
    "import torchvision.datasets as datasets\n",
    "import torchvision.transforms as tfms\n",
    "from torch.utils.data import DataLoader\n",
    "from torch.utils.tensorboard import SummaryWriter\n",
    "\n",
    "import os\n",
    "import numpy as np\n",
    "import math\n",
    "import matplotlib.pyplot as plt\n",
    "import random"
   ]
  },
  {
   "cell_type": "code",
   "execution_count": null,
   "metadata": {},
   "outputs": [],
   "source": [
    "print(random.randint(0,59))\n",
    "print(random.randint(0,59))"
   ]
  },
  {
   "cell_type": "code",
   "execution_count": null,
   "metadata": {},
   "outputs": [],
   "source": [
    "#map_nbr = nbr\n",
    "\n",
    "#flat_map = np.loadtxt(\"../maps/astar_maps_big_dataset/map-\"+str(map_nbr)+\".txt\")\n",
    "#flat_path = np.loadtxt(\"../paths/astar_paths_big_dataset/map-\"+str(map_nbr)+\"_path-0.txt\")\n",
    "\n",
    "flat_map = np.loadtxt(\"./env/map_64x64/map_64x64.txt\", skiprows=2)\n",
    "\n",
    "map = np.asarray(flat_map).reshape(64,64)\n",
    "\n",
    "plt.imshow(map)"
   ]
  }
 ],
 "metadata": {
  "kernelspec": {
   "display_name": "Python 3.7.10 ('base')",
   "language": "python",
   "name": "python3"
  },
  "language_info": {
   "codemirror_mode": {
    "name": "ipython",
    "version": 3
   },
   "file_extension": ".py",
   "mimetype": "text/x-python",
   "name": "python",
   "nbconvert_exporter": "python",
   "pygments_lexer": "ipython3",
   "version": "3.7.10"
  },
  "orig_nbformat": 4,
  "vscode": {
   "interpreter": {
    "hash": "91d83ce0172cd11bf640c4c99324da5696dd51b333c17fa628ac54718baa79cf"
   }
  }
 },
 "nbformat": 4,
 "nbformat_minor": 2
}
