{
 "cells": [
  {
   "cell_type": "code",
   "execution_count": 1,
   "metadata": {},
   "outputs": [],
   "source": [
    "import torch\n",
    "import torch.nn as nn\n",
    "import torch.optim as optim\n",
    "import torchvision\n",
    "import torchvision.datasets as datasets\n",
    "from torch.utils.data import DataLoader\n",
    "import torchvision.transforms as transforms\n",
    "from torch.utils.tensorboard import SummaryWriter  # to print to tensorboard\n",
    "from itertools import product\n",
    "from scipy import interpolate\n",
    "\n",
    "import os, sys\n",
    "import numpy as np\n",
    "import matplotlib.pyplot as plt"
   ]
  },
  {
   "cell_type": "code",
   "execution_count": 2,
   "metadata": {},
   "outputs": [],
   "source": [
    "# based on code from https://www.youtube.com/watch?v=OljTVUVzPpM&list=PLhhyoLH6IjfwIp8bZnzX8QR30TRcHO8Va&index=2&t=635s"
   ]
  },
  {
   "cell_type": "code",
   "execution_count": 3,
   "metadata": {},
   "outputs": [],
   "source": [
    "# class Discriminator(nn.Module):\n",
    "#     def __init__(self, in_features):\n",
    "#         super().__init__()\n",
    "#         self.disc = nn.Sequential(\n",
    "#             nn.Linear(in_features, DISC_NODES),\n",
    "#             nn.LeakyReLU(0.01),\n",
    "#             nn.Linear(DISC_NODES, 1),\n",
    "#             nn.Sigmoid(),\n",
    "#         )\n",
    "\n",
    "#     def forward(self, x):\n",
    "#         return self.disc(x.float())"
   ]
  },
  {
   "cell_type": "code",
   "execution_count": 4,
   "metadata": {},
   "outputs": [],
   "source": [
    "# class Generator(nn.Module):\n",
    "#     def __init__(self, z_dim, map_dim):\n",
    "#         super().__init__()\n",
    "#         self.gen = nn.Sequential(\n",
    "#             nn.Linear(z_dim, GEN_NODES),\n",
    "#             nn.LeakyReLU(0.01),\n",
    "#             nn.Linear(GEN_NODES, map_dim),\n",
    "#             nn.Tanh(),  # normalize inputs to [-1, 1] so make outputs [-1, 1]\n",
    "#         )\n",
    "\n",
    "#     def forward(self, x):\n",
    "#         return self.gen(x)"
   ]
  },
  {
   "cell_type": "code",
   "execution_count": 5,
   "metadata": {},
   "outputs": [],
   "source": [
    "# hyperparameters\n",
    "device = \"cuda\" if torch.cuda.is_available() else \"cpu\"\n",
    "# gen_nodes = 256\n",
    "# disc_nodes = 128\n",
    "# lr = 3e-5\n",
    "# batch_size = 5\n",
    "# num_epochs = 6\n",
    "\n",
    "z_dim = 1024\n",
    "map_dim = 400 * 400 * 1 # 16000\n",
    "max_data_points = 6000\n",
    "\n",
    "parameters = dict(\n",
    "    # gen_nodes = [128, 256],\n",
    "    # disc_nodes = [128, 256],\n",
    "    # lr = [0.0001, 0.00001],\n",
    "    # batch_size = [5, 10],\n",
    "    # num_epochs = [10]\n",
    "    gen_nodes = [256],\n",
    "    disc_nodes = [128],\n",
    "    lr = [0.0001, 0.00001],\n",
    "    batch_size = [5, 10],\n",
    "    num_epochs = [10],\n",
    ")\n",
    "param_values = [v for v in parameters.values()]\n",
    "total_param_runs = np.prod([len(v) for v in parameters.values()])"
   ]
  },
  {
   "cell_type": "code",
   "execution_count": 6,
   "metadata": {},
   "outputs": [
    {
     "name": "stdout",
     "output_type": "stream",
     "text": [
      "cuda\n"
     ]
    }
   ],
   "source": [
    "print(device)"
   ]
  },
  {
   "cell_type": "code",
   "execution_count": 7,
   "metadata": {},
   "outputs": [],
   "source": [
    "# disc = Discriminator(map_dim).to(device)\n",
    "# gen = Generator(z_dim, map_dim).to(device)\n",
    "# fixed_noise = torch.randn((batch_size, z_dim)).to(device)\n",
    "transforms = transforms.Compose(\n",
    "    [transforms.ToTensor(), transforms.Normalize((0.5,), (0.5,)),] # modify training data by normalizng to a desired mean and std deviation\n",
    ")"
   ]
  },
  {
   "cell_type": "code",
   "execution_count": 8,
   "metadata": {},
   "outputs": [],
   "source": [
    "# Need to override __init__, __len__, __getitem__\n",
    "# as per datasets requirement\n",
    "class PathsDataset(torch.utils.data.Dataset):\n",
    "    # init the dataset, shape = L x W\n",
    "    def __init__(self, path, transform=None, shape = (100,100)):\n",
    "        print(\"Loading paths dataset...\")\n",
    "        # Read in path files\n",
    "        # Convert to x by y np arrays\n",
    "        # add the np arrays to a list\n",
    "        # set self.transform and self.data\n",
    "        self.paths = [] # create a list to hold all paths read from file\n",
    "        for filename in os.listdir(path):\n",
    "            with open(os.path.join(path, filename), 'r') as f: # open in readonly mode\n",
    "                self.flat_path = np.loadtxt(f) # load in the flat path from file\n",
    "                self.path = np.asarray(self.flat_path).reshape(len(self.flat_path)//2,2) #unflatten the path from the file\n",
    "\n",
    "                # xvales which to interpolate on\n",
    "                # want to interpolate on xvalues from the min xval in the path to the largest xval in the path\n",
    "                self.xvals = np.linspace(int(min(self.path[:,0])), int(max(self.path[:,0])), int(max(self.path[:,0])-min(self.path[:,0])))\n",
    "                self.xvals = self.xvals.astype(int)\n",
    "\n",
    "                self.yvals = np.linspace(int(min(self.path[:,1])), int(max(self.path[:,1])), int(max(self.path[:,1])-min(self.path[:,1])))\n",
    "                self.yvals = self.yvals.astype(int)\n",
    "\n",
    "                # use to interpolate: https://docs.scipy.org/doc/scipy/reference/generated/scipy.interpolate.interp2d.html#scipy.interpolate.interp2d \n",
    "\n",
    "                # interp_func = interpolate.interp2d(self.path[:,0], self.path[:,1], np.arange(1, len(self.path)+1), kind=\"cubic\")\n",
    "                # new_y = interp_func(self.path[:,0], self.path[:,1])[0,:]\n",
    "                # new_y = np.array(new_y).astype(int)\n",
    "                # print(new_y)\n",
    "                \n",
    "                # interpolate for all xvals using the paths from file's x and y values\n",
    "                self.interp_path_x = np.interp(self.xvals, self.path[:,0], self.path[:,1])\n",
    "                self.interp_path_x = np.array(self.interp_path_x).astype(int)\n",
    "\n",
    "                self.interp_path_y = np.interp(self.yvals, self.interp_path_x, self.xvals)\n",
    "                self.interp_path_y = np.array(self.interp_path_y).astype(int)\n",
    "\n",
    "                # create a LxW matrix where all the values where path is equal to 1\n",
    "                self.path_matrix = np.zeros(shape)\n",
    "                self.path_matrix[self.interp_path_x, self.xvals] = 1\n",
    "                self.path_matrix[self.yvals, self.interp_path_y] = 1\n",
    "\n",
    "\n",
    "                \n",
    "                self.paths.append(self.path_matrix) # add the path to paths list\n",
    "        print(\"Done!\")\n",
    "\n",
    "    def __len__(self):\n",
    "        return len(self.paths)\n",
    "\n",
    "    def __getitem__(self, idx):\n",
    "        return self.paths[idx]\n"
   ]
  },
  {
   "cell_type": "code",
   "execution_count": 9,
   "metadata": {},
   "outputs": [
    {
     "name": "stdout",
     "output_type": "stream",
     "text": [
      "Loading paths dataset...\n",
      "Done!\n"
     ]
    }
   ],
   "source": [
    "dataset = PathsDataset(path = \"./data/map_20x20/\", shape = (400,400))"
   ]
  },
  {
   "cell_type": "code",
   "execution_count": 10,
   "metadata": {},
   "outputs": [
    {
     "data": {
      "text/plain": [
       "<matplotlib.image.AxesImage at 0x7f9de01a6dc0>"
      ]
     },
     "execution_count": 10,
     "metadata": {},
     "output_type": "execute_result"
    },
    {
     "data": {
      "image/png": "[encoded data removed]",
      "text/plain": [
       "<Figure size 720x720 with 1 Axes>"
      ]
     },
     "metadata": {
      "needs_background": "light"
     },
     "output_type": "display_data"
    }
   ],
   "source": [
    "plt.figure(figsize=(10,10))\n",
    "plt.imshow(dataset[20])"
   ]
  },
  {
   "cell_type": "code",
   "execution_count": 11,
   "metadata": {},
   "outputs": [
    {
     "name": "stdout",
     "output_type": "stream",
     "text": [
      "[[0. 0. 0. ... 0. 0. 0.]\n",
      " [0. 0. 0. ... 0. 0. 0.]\n",
      " [0. 0. 0. ... 0. 0. 0.]\n",
      " ...\n",
      " [0. 0. 0. ... 0. 0. 0.]\n",
      " [0. 0. 0. ... 0. 0. 0.]\n",
      " [0. 0. 0. ... 0. 0. 0.]]\n",
      "10000\n"
     ]
    }
   ],
   "source": [
    "# np.set_printoptions(threshold=sys.maxsize)\n",
    "print(dataset[5])\n",
    "print(len(dataset))"
   ]
  },
  {
   "cell_type": "code",
   "execution_count": 12,
   "metadata": {},
   "outputs": [
    {
     "name": "stdout",
     "output_type": "stream",
     "text": [
      "Run [1/4] Epoch [1/10] Batch [0/2000]                         Loss D: 0.6946, loss G: 4.1414\n",
      "Run [1/4] Epoch [1/10] Batch [500/2000]                         Loss D: 0.0918, loss G: 12.8884\n",
      "Run [1/4] Epoch [1/10] Batch [1000/2000]                         Loss D: 0.0466, loss G: 46.6072\n",
      "Run [1/4] Epoch [1/10] Batch [1500/2000]                         Loss D: 0.0971, loss G: 33.2885\n",
      "Run [1/4] Epoch [2/10] Batch [0/2000]                         Loss D: 0.2619, loss G: 11.0890\n",
      "Run [1/4] Epoch [2/10] Batch [500/2000]                         Loss D: 0.0861, loss G: 18.7723\n",
      "Run [1/4] Epoch [2/10] Batch [1000/2000]                         Loss D: 0.0565, loss G: 10.6812\n",
      "Run [1/4] Epoch [2/10] Batch [1500/2000]                         Loss D: 0.0493, loss G: 10.1373\n",
      "Run [1/4] Epoch [3/10] Batch [0/2000]                         Loss D: 0.0653, loss G: 7.5888\n",
      "Run [1/4] Epoch [3/10] Batch [500/2000]                         Loss D: 0.1052, loss G: 10.7950\n",
      "Run [1/4] Epoch [3/10] Batch [1000/2000]                         Loss D: 0.0818, loss G: 5.4352\n",
      "Run [1/4] Epoch [3/10] Batch [1500/2000]                         Loss D: 0.0678, loss G: 6.7135\n",
      "Run [1/4] Epoch [4/10] Batch [0/2000]                         Loss D: 0.0563, loss G: 5.9676\n",
      "Run [1/4] Epoch [4/10] Batch [500/2000]                         Loss D: 0.0956, loss G: 3.8249\n",
      "Run [1/4] Epoch [4/10] Batch [1000/2000]                         Loss D: 0.0702, loss G: 5.0491\n",
      "Run [1/4] Epoch [4/10] Batch [1500/2000]                         Loss D: 0.0713, loss G: 4.4166\n"
     ]
    }
   ],
   "source": [
    "# writer_dis = SummaryWriter(f\"logs/dis\")\n",
    "# writer_gen = SummaryWriter(f\"logs/gen\")\n",
    "# writer_paths = SummaryWriter(f\"logs/paths\")\n",
    "# writer_all = SummaryWriter(f\"logs/all\")\n",
    "\n",
    "param_step = 0\n",
    "\n",
    "for (gen_nodes,disc_nodes,lr,batch_size,num_epochs) in product(*param_values):\n",
    "\n",
    "    writer = SummaryWriter(f\"logs/run{param_step}\")\n",
    "\n",
    "    class Discriminator(nn.Module):\n",
    "        def __init__(self, in_features):\n",
    "            super().__init__()\n",
    "            self.disc = nn.Sequential(\n",
    "                nn.Linear(in_features, disc_nodes),\n",
    "                nn.LeakyReLU(0.01),\n",
    "                nn.Linear(disc_nodes, 1),\n",
    "                nn.Sigmoid(),\n",
    "            )\n",
    "\n",
    "        def forward(self, x):\n",
    "            return self.disc(x.float())\n",
    "\n",
    "    class Generator(nn.Module):\n",
    "        def __init__(self, z_dim, map_dim):\n",
    "            super().__init__()\n",
    "            self.gen = nn.Sequential(\n",
    "                nn.Linear(z_dim, gen_nodes),\n",
    "                nn.LeakyReLU(0.01),\n",
    "                nn.Linear(gen_nodes, map_dim),\n",
    "                nn.Tanh(),  # normalize inputs to [-1, 1] so make outputs [-1, 1]\n",
    "            )\n",
    "\n",
    "        def forward(self, x):\n",
    "            return self.gen(x)\n",
    "\n",
    "    disc = Discriminator(map_dim).to(device)\n",
    "    gen = Generator(z_dim, map_dim).to(device)\n",
    "    fixed_noise = torch.randn((batch_size, z_dim)).to(device)\n",
    "\n",
    "    loader = DataLoader(dataset, batch_size=batch_size, shuffle=True)\n",
    "    opt_disc = optim.Adam(disc.parameters(), lr=lr)\n",
    "    opt_gen = optim.Adam(gen.parameters(), lr=lr)\n",
    "    criterion = nn.BCELoss()\n",
    "\n",
    "    loss_step = 0\n",
    "    loss_step_acc = 0\n",
    "    step = 0\n",
    "    correct_gen = 0\n",
    "    correct_dis = 0\n",
    "    total_gen_loss = 0\n",
    "\n",
    "    num_loops = batch_size*num_epochs\n",
    "\n",
    "    step_rate = round(max_data_points/num_loops)\n",
    "\n",
    "    for epoch in range(num_epochs):\n",
    "        for batch_idx, real in enumerate(loader):\n",
    "            real = real.view(-1, 160000).to(device)\n",
    "            batch_size = real.shape[0]\n",
    "\n",
    "            ### Train Discriminator: max log(D(x)) + log(1 - D(G(z)))\n",
    "            noise = torch.randn(batch_size, z_dim).to(device)\n",
    "            fake = gen(noise)\n",
    "            disc_real = disc(real).view(-1)\n",
    "            lossD_real = criterion(disc_real, torch.ones_like(disc_real))\n",
    "            disc_fake = disc(fake).view(-1)\n",
    "            lossD_fake = criterion(disc_fake, torch.zeros_like(disc_fake))\n",
    "            lossD = (lossD_real + lossD_fake) / 2\n",
    "            disc.zero_grad()\n",
    "            lossD.backward(retain_graph=True)\n",
    "            opt_disc.step()\n",
    "\n",
    "            # correct_dis += torch.sum(disc_fake == torch.zeros_like(disc_fake))\n",
    "\n",
    "            ### Train Generator: min log(1 - D(G(z))) <-> max log(D(G(z))\n",
    "            # where the second option of maximizing doesn't suffer from\n",
    "            # saturating gradients\n",
    "            output = disc(fake).view(-1)\n",
    "            lossG = criterion(output, torch.ones_like(output))\n",
    "            gen.zero_grad()\n",
    "            lossG.backward()\n",
    "            opt_gen.step()\n",
    "\n",
    "            # total_gen_loss += lossG\n",
    "            # correct_gen += torch.sum(output == torch.ones_like(output))\n",
    "\n",
    "            if loss_step % step_rate == 0:\n",
    "                # saving loss + accuracy\n",
    "                writer.add_scalar(f\"Discriminator Loss\", lossD, loss_step_acc)\n",
    "                # writer.add_scalar(f\"Discriminator Accuracy {param_step}\", correct_dis/(loss_step+1), loss_step)\n",
    "\n",
    "                writer.add_scalar(f\"Generator Loss\", lossG, loss_step_acc)\n",
    "                # writer.add_scalar(f\"Generator Accuracy  {param_step}\", correct_gen/(loss_step+1), loss_step)\n",
    "\n",
    "                loss_step_acc += 1\n",
    "\n",
    "            loss_step += 1\n",
    "\n",
    "            if batch_idx % (len(loader)//4) == 0:\n",
    "\n",
    "                print(\n",
    "                    f\"Run [{param_step+1}/{total_param_runs}] Epoch [{epoch+1}/{num_epochs}] Batch [{batch_idx}/{len(loader)}] \\\n",
    "                        Loss D: {lossD:.4f}, loss G: {lossG:.4f}\"\n",
    "                )\n",
    "\n",
    "                with torch.no_grad():\n",
    "                    disc_fake = gen(fixed_noise)\n",
    "                    fake = disc_fake.reshape(-1, 1, 400, 400)\n",
    "                    data = real.reshape(-1, 1, 400, 400)\n",
    "                    img_gen_output = torchvision.utils.make_grid(fake, normalize=True)\n",
    "                    img_path_data = torchvision.utils.make_grid(data, normalize=True)\n",
    "\n",
    "                    # if epoch == 0:\n",
    "                    #     # graphs of general nn structure:\n",
    "                    #     writer.add_graph(disc, disc_fake)\n",
    "                    #     writer.add_graph(gen, fixed_noise)\n",
    "\n",
    "                    # saving output\n",
    "                    writer.add_image(\n",
    "                        f\"Generator Output\", img_gen_output, global_step=step\n",
    "                    )\n",
    "                    writer.add_image(\n",
    "                        f\"Path Data\", img_path_data, global_step=step\n",
    "                    )\n",
    "\n",
    "                step += 1\n",
    "            \n",
    "    \n",
    "\n",
    "    #saving hyperparams:\n",
    "    writer.add_hparams({\"gen_nodes\": gen_nodes, \"disc_nodes\": disc_nodes, \"lr\": lr, \"batch_size\": batch_size, \"epochs\": num_epochs}, {\"gen loss\": lossG}, run_name=f\"run{param_step}\")\n",
    "    writer.close()\n",
    "    param_step += 1\n",
    "\n",
    "# writer_all.close()\n"
   ]
  }
 ],
 "metadata": {
  "interpreter": {
   "hash": "1448b48b023bcc9c3d4a79e814720a10ca6d4244f75e0f7ce4af58f96ba2b7d3"
  },
  "kernelspec": {
   "display_name": "Python 3.9.7 ('base')",
   "language": "python",
   "name": "python3"
  },
  "language_info": {
   "codemirror_mode": {
    "name": "ipython",
    "version": 3
   },
   "file_extension": ".py",
   "mimetype": "text/x-python",
   "name": "python",
   "nbconvert_exporter": "python",
   "pygments_lexer": "ipython3",
   "version": "3.9.7"
  },
  "orig_nbformat": 4,
  "vscode": {
   "interpreter": {
    "hash": "65c0cf972fe55eaf0c962c4929f592d86a72c532b00283f932a90435beee88e0"
   }
  }
 },
 "nbformat": 4,
 "nbformat_minor": 2
}
