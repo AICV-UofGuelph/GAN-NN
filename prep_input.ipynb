{
 "cells": [
  {
   "cell_type": "markdown",
   "metadata": {},
   "source": [
    "# Imports"
   ]
  },
  {
   "cell_type": "code",
   "execution_count": 1,
   "metadata": {},
   "outputs": [],
   "source": [
    "import sys\n",
    "import os\n",
    "import numpy as np\n",
    "import torch\n",
    "import skfmm"
   ]
  },
  {
   "cell_type": "markdown",
   "metadata": {},
   "source": [
    "# Constants"
   ]
  },
  {
   "cell_type": "markdown",
   "metadata": {},
   "source": [
    "Dataset directory structure:\n",
    "```\n",
    "📂datasets\n",
    " ┗ 📂{dataset name}\n",
    "   ┗ 📂{subset}\n",
    "     ┗ 📂{map name}\n",
    "       ┣ 📜{map name}.txt\n",
    "       ┗ 📂paths\n",
    "         ┗ 📜{path name}.txt\n",
    "```\n",
    "\n",
    "\n",
    "Input directory structure:\n",
    "```\n",
    "📂inputs\n",
    " ┗ 📂{dataset name}\n",
    "   ┗ 📂{subset}\n",
    "     ┗ 📜{processed input item}\n",
    "```"
   ]
  },
  {
   "cell_type": "code",
   "execution_count": 2,
   "metadata": {},
   "outputs": [],
   "source": [
    "INPUT_DIR = 'datasets'  # The directory containing the map(s) & paths to be processed\n",
    "OUTPUT_DIR = 'test_data'       # The directory where this notebook's output will be stored\n",
    "\n",
    "DATASET = 'test_set'        # dataset to prepare\n",
    "SUBSET = None       # Subset to prepare (leave as None to prepare all subsets)"
   ]
  },
  {
   "cell_type": "markdown",
   "metadata": {},
   "source": [
    "# Process Inputs"
   ]
  },
  {
   "cell_type": "code",
   "execution_count": 3,
   "metadata": {},
   "outputs": [],
   "source": [
    "def convert_path(path_file, map_mat, dest_dir):\n",
    "    # TODO: check that the path file exists\n",
    "    if not os.path.isfile(path_file):\n",
    "        print(f\"ERROR: Path file {path_file} does not exist\")\n",
    "        return\n",
    "\n",
    "    # If the output destination doesn't exist, create the directory\n",
    "    if not os.path.isdir(dest_dir):\n",
    "        os.makedirs(dest_dir)\n",
    "\n",
    "    path = np.loadtxt(path_file)\n",
    "    path = np.asarray(path, dtype=int).reshape(len(path)//2,2)\n",
    "\n",
    "    path_mat = np.zeros_like(map_mat[0,:,:])\n",
    "    end_mat = np.ones_like(map_mat[0,:,:])\n",
    "\n",
    "    # Make the path continuous\n",
    "    for i in range(path.shape[0] - 1):\n",
    "        x = path[i,0]\n",
    "        x1 = path[i,0]\n",
    "        x2 = path[i+1,0]\n",
    "\n",
    "        y = path[i,1]\n",
    "        y1 = path[i,1]\n",
    "        y2 = path[i+1,1]\n",
    "\n",
    "        if (x1 < x2):\n",
    "            x_dir = 1\n",
    "        else:\n",
    "            x_dir = -1\n",
    "\n",
    "        if (y1 < y2):\n",
    "            y_dir = 1\n",
    "        else:\n",
    "            y_dir = -1\n",
    "\n",
    "        # Determine y from x\n",
    "        if x2-x1 != 0:\n",
    "            m = (y2-y1)/(x2-x1)\n",
    "            while x != x2:\n",
    "                y = round(m*(x-x1) + y1)\n",
    "                path_mat[y,x] = 1\n",
    "                x += x_dir\n",
    "        else:\n",
    "            while x != x2:\n",
    "                path_mat[y1,x] = 1\n",
    "                x += x_dir\n",
    "\n",
    "\n",
    "        x = path[i,0]\n",
    "        x1 = path[i,0]\n",
    "        x2 = path[i+1,0]\n",
    "\n",
    "        y = path[i,1]\n",
    "        y1 = path[i,1]\n",
    "        y2 = path[i+1,1]\n",
    "\n",
    "        # Determine x from y\n",
    "        if y2-y1 != 0:\n",
    "            m = (x2-x1)/(y2-y1)\n",
    "            while y != y2:\n",
    "                x = round(m*(y-y1) + x1)\n",
    "                path_mat[y,x] = 1\n",
    "                y += y_dir\n",
    "        else:\n",
    "            while y != y2:\n",
    "                path_mat[y,x1] = 1\n",
    "                y += y_dir\n",
    "        \n",
    "    path_mat[path[path.shape[0]-1,1], path[path.shape[0]-1,0]] = 1     # Include the last point in the path\n",
    "\n",
    "\n",
    "    # Create endpoints matrix\n",
    "    end_mat *= -1\n",
    "    end_mat[path[0,1], path[0,0]] = 1\n",
    "    end_mat[path[path.shape[0]-1,1], path[path.shape[0]-1,0]] = 1\n",
    "    end_mat = skfmm.distance(end_mat, dx=0.1)\n",
    "    end_mat += 1\n",
    "\n",
    "    # Combine the three matrices\n",
    "    path_mat = path_mat[np.newaxis,:,:]\n",
    "    end_mat = end_mat[np.newaxis,:,:]\n",
    "    path = np.concatenate((path_mat, end_mat, map_mat), axis=0)\n",
    "    path = torch.Tensor(path)\n",
    "\n",
    "    # Save path to file\n",
    "    num_paths = 0\n",
    "    path_list = os.scandir(dest_dir)\n",
    "    for item in path_list:\n",
    "        num_paths += 1\n",
    "    file_name = f\"path_{num_paths}.pt\"\n",
    "\n",
    "    torch.save(path, os.path.join(dest_dir, file_name))"
   ]
  },
  {
   "cell_type": "code",
   "execution_count": 4,
   "metadata": {},
   "outputs": [],
   "source": [
    "def convert_map(map_dir, dest_dir):\n",
    "\n",
    "    if not os.path.isdir(map_dir):\n",
    "        print(f\"ERROR: Map directory '{map_dir}' does not exist\")\n",
    "        return\n",
    "\n",
    "    map_name = os.path.basename(map_dir)\n",
    "    map_file = os.path.join(map_dir, f\"{map_name}.txt\")\n",
    "    if not os.path.isfile(map_file):\n",
    "        print(f\"ERROR: Missing map file '{map_file}'\")\n",
    "        return\n",
    "\n",
    "    with open(map_file) as file:\n",
    "        map_dims = file.readline()\n",
    "    map_dims = tuple(map(int, map_dims.split(' ')))\n",
    "\n",
    "    map_mat = np.loadtxt(map_file, skiprows=2).reshape(map_dims)\n",
    "    # TODO: process map using SDF\n",
    "    map_mat *= -1\n",
    "    map_mat[map_mat == 0] = 1\n",
    "    map_mat = skfmm.distance(map_mat, dx = 0.1)\n",
    "    map_mat = map_mat[np.newaxis, :, :]\n",
    "\n",
    "    path_dir = os.path.join(map_dir, 'paths')\n",
    "    if not os.path.isdir(path_dir):\n",
    "        print(f\"ERROR: Path directory {path_dir} does not exist\")\n",
    "        return\n",
    "    \n",
    "    # Convert each path\n",
    "    paths = os.scandir(path_dir)\n",
    "    for item in paths:\n",
    "        convert_path(item.path, map_mat, dest_dir)"
   ]
  },
  {
   "cell_type": "code",
   "execution_count": 5,
   "metadata": {},
   "outputs": [],
   "source": [
    "def convert_subset(subset_dir, dest_dir):\n",
    "    \n",
    "    if not os.path.isdir(subset_dir):  # make sure the directory exists\n",
    "        print(f\"ERROR: subset '{subset_dir}' does not exist\")\n",
    "        return\n",
    "\n",
    "    # process each map along with its paths\n",
    "    maps = os.scandir(subset_dir)\n",
    "    for item in maps:\n",
    "        obs_map = convert_map(item.path, os.path.join(dest_dir, item.name))"
   ]
  },
  {
   "cell_type": "code",
   "execution_count": 6,
   "metadata": {},
   "outputs": [],
   "source": [
    "# Open the specified dataset's directory\n",
    "in_dir = os.path.join(os.getcwd(), INPUT_DIR, DATASET)\n",
    "out_dir = os.path.join(os.getcwd(), OUTPUT_DIR, DATASET)\n",
    "\n",
    "if not os.path.isdir(in_dir):\n",
    "    print(f\"Error: dataset {in_dir} does not exist\")\n",
    "    sys.exit()\n",
    "\n",
    "if SUBSET != None:                  # open specified subset\n",
    "    in_dir = os.path.join(in_dir, SUBSET)\n",
    "    out_dir = os.path.join(out_dir, SUBSET)\n",
    "    convert_subset(in_dir, out_dir)\n",
    "else:                               # process all subsets in the dataset\n",
    "    subsets = os.scandir(in_dir)\n",
    "    for item in subsets:\n",
    "        convert_subset(item.path, os.path.join(out_dir, item.name))"
   ]
  },
  {
   "cell_type": "markdown",
   "metadata": {},
   "source": [
    "# Testing this script"
   ]
  },
  {
   "cell_type": "code",
   "execution_count": null,
   "metadata": {},
   "outputs": [],
   "source": [
    "from matplotlib import pyplot"
   ]
  },
  {
   "cell_type": "code",
   "execution_count": null,
   "metadata": {},
   "outputs": [],
   "source": [
    "# Load some example input\n",
    "# Use pyplot to display the example(s)"
   ]
  }
 ],
 "metadata": {
  "kernelspec": {
   "display_name": "Python 3.9.7 ('base')",
   "language": "python",
   "name": "python3"
  },
  "language_info": {
   "codemirror_mode": {
    "name": "ipython",
    "version": 3
   },
   "file_extension": ".py",
   "mimetype": "text/x-python",
   "name": "python",
   "nbconvert_exporter": "python",
   "pygments_lexer": "ipython3",
   "version": "3.9.7"
  },
  "orig_nbformat": 4,
  "vscode": {
   "interpreter": {
    "hash": "1448b48b023bcc9c3d4a79e814720a10ca6d4244f75e0f7ce4af58f96ba2b7d3"
   }
  }
 },
 "nbformat": 4,
 "nbformat_minor": 2
}
