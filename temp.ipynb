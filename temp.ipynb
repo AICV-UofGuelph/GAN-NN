{
 "cells": [
  {
   "cell_type": "code",
   "execution_count": 1,
   "metadata": {},
   "outputs": [],
   "source": [
    "# Code adapted from: https://github.com/aladdinpersson/Machine-Learning-Collection/blob/ac5dcd03a40a08a8af7e1a67ade37f28cf88db43/ML/Pytorch/GANs/2.%20DCGAN/train.py\n",
    "import torch\n",
    "import torch.nn as nn\n",
    "import torch.nn.functional as F\n",
    "import torch.optim as optim\n",
    "import torchvision\n",
    "import torchvision.datasets as datasets\n",
    "import torchvision.transforms as tfms\n",
    "from torch.utils.data import DataLoader\n",
    "from torch.utils.tensorboard import SummaryWriter\n",
    "\n",
    "import os, math\n",
    "import random\n",
    "import numpy as np"
   ]
  },
  {
   "cell_type": "code",
   "execution_count": 2,
   "metadata": {},
   "outputs": [],
   "source": [
    "DATASET = 'mnist'   # Data at benchmark/{DATASET}/data/\n",
    "RUN_ID = 't1'       # Checkpoints at benchmark/{DATASET}/checkpoints/{RUN_ID}/\n",
    "\n",
    "LOAD = False\n",
    "SAVE = True\n",
    "curr_epoch = 0\n",
    "\n",
    "GEN_PATH = f'./benchmark/{DATASET}/checkpoints/{RUN_ID}/generator/'\n",
    "DISC_PATH = f'./benchmark/{DATASET}/checkpoints/{RUN_ID}/critic/'\n",
    "LOAD_EPOCH = 0  # The epoch checkpoint to load\n",
    "\n",
    "BATCH_SIZE = 50"
   ]
  },
  {
   "cell_type": "markdown",
   "metadata": {},
   "source": [
    "transforms"
   ]
  },
  {
   "cell_type": "code",
   "execution_count": 3,
   "metadata": {},
   "outputs": [],
   "source": [
    "class AddAffine(nn.Module):\n",
    "    def __init__(self):\n",
    "        super().__init__()\n",
    "    \n",
    "    # Assumes input is a 3D matrix (C,H,W)\n",
    "    def forward(self, image):\n",
    "        max = (image.shape[2]-1, image.shape[1]-1)\n",
    "        affine = torch.zeros_like(image[:1,:,:])\n",
    "\n",
    "        # Draw lines between the corners of the affine matrix\n",
    "        x = 0\n",
    "        b1, b2 = (0,max[1])\n",
    "        m1 = max[1] / max[0]\n",
    "        m2 = -max[1] / max[0]\n",
    "        while (x <= max[0]):\n",
    "            y1 = m1*x + b1\n",
    "            y2 = m2*x + b2\n",
    "            y1 = round(y1)\n",
    "            y2 = round(y2)\n",
    "            affine[0,y1,x] = 1\n",
    "            affine[0,y2,x] = 1\n",
    "            x += 1\n",
    "\n",
    "        y = 0\n",
    "        b1, b2 = (0,max[0])\n",
    "        m1 = max[0] / max[1]\n",
    "        m2 = -max[0] / max[1]\n",
    "        while (y <= max[1]):\n",
    "            x1 = m1*y + b1\n",
    "            x2 = m2*y + b2\n",
    "            x1 = round(x1)\n",
    "            x2 = round(x2)\n",
    "            affine[0,y,x1] = 1\n",
    "            affine[0,y,x2] = 1\n",
    "            y += 1\n",
    "\n",
    "        # draw line along the top\n",
    "        x = 0\n",
    "        while (x <= max[0]):\n",
    "            affine[0,0,x] = 1\n",
    "            x += 1\n",
    "\n",
    "        # Append affine to image along channels axis\n",
    "        out = torch.concat((image, affine), axis=0)\n",
    "        return out"
   ]
  },
  {
   "cell_type": "code",
   "execution_count": 4,
   "metadata": {},
   "outputs": [],
   "source": [
    "tf = tfms.Compose(\n",
    "    [\n",
    "        tfms.ToTensor(),\n",
    "        nn.Sequential(\n",
    "            AddAffine(),\n",
    "            tfms.RandomAffine(degrees=180, translate=(0.0,0.0), scale=(0.75,1.0), shear=None)\n",
    "        )\n",
    "    ]\n",
    ")"
   ]
  },
  {
   "cell_type": "markdown",
   "metadata": {},
   "source": [
    "load dataset"
   ]
  },
  {
   "cell_type": "code",
   "execution_count": 5,
   "metadata": {},
   "outputs": [],
   "source": [
    "data_train = datasets.MNIST(root='benchmark/datasets/', train=True, download=True, transform=tf)\n",
    "dataloader = DataLoader(data_train, batch_size=BATCH_SIZE, shuffle=True, drop_last=True)\n",
    "\n",
    "writer_test1 = SummaryWriter(f'logs/test1')\n",
    "writer_test2 = SummaryWriter(f'logs/test2')\n",
    "writer_test3 = SummaryWriter(f'logs/test3')"
   ]
  },
  {
   "cell_type": "markdown",
   "metadata": {},
   "source": [
    "Test"
   ]
  },
  {
   "cell_type": "code",
   "execution_count": 6,
   "metadata": {},
   "outputs": [],
   "source": [
    "step = 0\n",
    "for batch_idx, (imgs,labels) in enumerate(dataloader):\n",
    "    NOISE_SHAPE = (imgs.shape[0], 1, imgs.shape[2], imgs.shape[3])\n",
    "\n",
    "    labels = labels[:,None,None,None]\n",
    "    labels = labels.expand(NOISE_SHAPE)\n",
    "\n",
    "    data = torch.concat((imgs, labels), axis=1)\n",
    "\n",
    "    img_grid_test1 = torchvision.utils.make_grid(data[:,0:1,:,:])\n",
    "    img_grid_test2 = torchvision.utils.make_grid(data[:,1:2,:,:])\n",
    "    img_grid_test3 = torchvision.utils.make_grid(data[:,2:3,:,:])\n",
    "    writer_test1.add_image('test', img_grid_test1, global_step=step)\n",
    "    writer_test2.add_image('test', img_grid_test2, global_step=step)\n",
    "    writer_test3.add_image('test', img_grid_test3, global_step=step)\n",
    "    step += 1"
   ]
  }
 ],
 "metadata": {
  "kernelspec": {
   "display_name": "Python 3.9.7 ('base')",
   "language": "python",
   "name": "python3"
  },
  "language_info": {
   "codemirror_mode": {
    "name": "ipython",
    "version": 3
   },
   "file_extension": ".py",
   "mimetype": "text/x-python",
   "name": "python",
   "nbconvert_exporter": "python",
   "pygments_lexer": "ipython3",
   "version": "3.9.7"
  },
  "orig_nbformat": 4,
  "vscode": {
   "interpreter": {
    "hash": "1448b48b023bcc9c3d4a79e814720a10ca6d4244f75e0f7ce4af58f96ba2b7d3"
   }
  }
 },
 "nbformat": 4,
 "nbformat_minor": 2
}
