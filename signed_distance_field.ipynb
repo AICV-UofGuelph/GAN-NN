{
 "cells": [
  {
   "cell_type": "code",
   "execution_count": null,
   "metadata": {},
   "outputs": [],
   "source": [
    "import numpy as np\n",
    "import matplotlib.pyplot as plt\n",
    "import numpy as np\n",
    "import skfmm"
   ]
  },
  {
   "cell_type": "code",
   "execution_count": null,
   "metadata": {},
   "outputs": [],
   "source": [
    "MAP_NAME = \"8x12_map_cropped\"\n",
    "with open(f'./env/{MAP_NAME}/{MAP_NAME}.txt') as file:               # gets string array of [size_x, size_y]\n",
    "    vals = file.readline().rstrip().rsplit(' ')                 # gets string array of [size_x, size_y]\n",
    "    size_x, size_y = int(vals[0]), int(vals[1])\n",
    "MAP_DIMS = (size_x,size_y)"
   ]
  },
  {
   "cell_type": "code",
   "execution_count": null,
   "metadata": {},
   "outputs": [],
   "source": [
    "flat_map = np.loadtxt(f'./env/{MAP_NAME}/{MAP_NAME}.txt', skiprows=2)             \n",
    "map = np.asarray(flat_map).reshape(MAP_DIMS[1], MAP_DIMS[0])\n",
    "map[map == 0] = -1\n",
    "map[map == 1] = 1\n",
    "print(map.shape)\n",
    "plt.imshow(map)\n",
    "plt.colorbar()\n",
    "plt.show()"
   ]
  },
  {
   "cell_type": "code",
   "execution_count": null,
   "metadata": {},
   "outputs": [],
   "source": [
    "sd = skfmm.distance(map, dx = 0.1) # compute signed distance\n",
    "plt.imshow(-sd)\n",
    "plt.colorbar()\n",
    "plt.show()"
   ]
  },
  {
   "cell_type": "code",
   "execution_count": null,
   "metadata": {},
   "outputs": [],
   "source": []
  },
  {
   "cell_type": "code",
   "execution_count": null,
   "metadata": {},
   "outputs": [],
   "source": []
  }
 ],
 "metadata": {
  "kernelspec": {
   "display_name": "Python 3.7.11 ('GAN-NN')",
   "language": "python",
   "name": "python3"
  },
  "language_info": {
   "codemirror_mode": {
    "name": "ipython",
    "version": 3
   },
   "file_extension": ".py",
   "mimetype": "text/x-python",
   "name": "python",
   "nbconvert_exporter": "python",
   "pygments_lexer": "ipython3",
   "version": "3.7.11"
  },
  "orig_nbformat": 4,
  "vscode": {
   "interpreter": {
    "hash": "ccf3d60b9b1cdec8f7c51fe623365f849c25434c0843b09b573fa1626b7830e2"
   }
  }
 },
 "nbformat": 4,
 "nbformat_minor": 2
}
