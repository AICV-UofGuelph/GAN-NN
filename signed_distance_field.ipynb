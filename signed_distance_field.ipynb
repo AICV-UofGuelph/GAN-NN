{
 "cells": [
  {
   "cell_type": "code",
   "execution_count": null,
   "metadata": {},
   "outputs": [],
   "source": [
    "import numpy as np\n",
    "import matplotlib.pyplot as plt\n",
    "import numpy as np\n",
    "import skfmm"
   ]
  },
  {
   "cell_type": "code",
   "execution_count": null,
   "metadata": {},
   "outputs": [],
   "source": [
    "DATASET_NAME = 'single_20_density_large'\n",
    "MAP_NAME = 'map_0'"
   ]
  },
  {
   "cell_type": "code",
   "execution_count": null,
   "metadata": {},
   "outputs": [],
   "source": [
    "flat_map = np.loadtxt(f'./datasets/{DATASET_NAME}/train/{MAP_NAME}/{MAP_NAME}.txt')             \n",
    "raw_map = np.asarray(flat_map)\n",
    "print(raw_map.shape)\n",
    "plt.imshow(raw_map)\n",
    "# plt.colorbar()\n",
    "plt.show()"
   ]
  },
  {
   "cell_type": "code",
   "execution_count": null,
   "metadata": {},
   "outputs": [],
   "source": [
    "map = raw_map * -1\n",
    "map[map == 0] = 1\n",
    "sd = skfmm.distance(map, dx = 0.1) # compute signed distance\n",
    "plt.imshow(sd)\n",
    "plt.colorbar()\n",
    "plt.show()"
   ]
  },
  {
   "cell_type": "code",
   "execution_count": null,
   "metadata": {},
   "outputs": [],
   "source": [
    "import os\n",
    "import time\n",
    "\n",
    "DATASET_NAME = 'random_20_density_large'\n",
    "\n",
    "maps = os.scandir(f'./datasets/{DATASET_NAME}/eval/')\n",
    "sum_time = 0\n",
    "\n",
    "for map in maps:\n",
    "    map_dir = os.path.join(map.path, f'{map.name}.txt')\n",
    "    flat_map = np.loadtxt(map_dir)             \n",
    "    raw_map = np.asarray(flat_map)\n",
    "    map = raw_map * -1\n",
    "    map[map == 0] = 1\n",
    "    st = time.time()\n",
    "    sd = skfmm.distance(map, dx = 0.1) # compute signed distance\n",
    "    et=time.time()\n",
    "    elapsed = et-st\n",
    "    sum_time += elapsed\n",
    "    print(f\"Elapse: {elapsed}\")\n",
    "    plt.imshow(sd)\n",
    "    plt.colorbar()\n",
    "    plt.show()\n",
    "\n",
    "print(f\"Total elapsed: {sum_time}\")\n"
   ]
  },
  {
   "cell_type": "code",
   "execution_count": null,
   "metadata": {},
   "outputs": [],
   "source": [
    "\n",
    "print(f\"average_sdf_time: {sum_time/10}\")"
   ]
  },
  {
   "cell_type": "code",
   "execution_count": null,
   "metadata": {},
   "outputs": [],
   "source": [
    "#results: average time (30% density) - 0.0008785486221313477s\n",
    "#results: average time (20% density) - 0.0009235382080078125"
   ]
  },
  {
   "cell_type": "code",
   "execution_count": null,
   "metadata": {},
   "outputs": [],
   "source": [
    "numbers = [1,2,3,4]\n",
    "numbers[-2]"
   ]
  },
  {
   "cell_type": "code",
   "execution_count": null,
   "metadata": {},
   "outputs": [],
   "source": [
    "y = \"stiff;thing;junk\"\n",
    "z = y.split(';')\n",
    "len(z)"
   ]
  },
  {
   "cell_type": "code",
   "execution_count": null,
   "metadata": {},
   "outputs": [],
   "source": []
  }
 ],
 "metadata": {
  "kernelspec": {
   "display_name": "Python 3.7.11 ('GAN-NN')",
   "language": "python",
   "name": "python3"
  },
  "language_info": {
   "codemirror_mode": {
    "name": "ipython",
    "version": 3
   },
   "file_extension": ".py",
   "mimetype": "text/x-python",
   "name": "python",
   "nbconvert_exporter": "python",
   "pygments_lexer": "ipython3",
   "version": "3.7.11"
  },
  "orig_nbformat": 4,
  "vscode": {
   "interpreter": {
    "hash": "ccf3d60b9b1cdec8f7c51fe623365f849c25434c0843b09b573fa1626b7830e2"
   }
  }
 },
 "nbformat": 4,
 "nbformat_minor": 2
}
